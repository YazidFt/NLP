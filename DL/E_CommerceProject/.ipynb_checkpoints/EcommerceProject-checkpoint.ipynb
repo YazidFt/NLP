{
 "cells": [
  {
   "cell_type": "code",
   "execution_count": 10,
   "metadata": {
    "collapsed": true
   },
   "outputs": [],
   "source": [
    "import numpy as np\n",
    "import pandas as pd"
   ]
  },
  {
   "cell_type": "code",
   "execution_count": 18,
   "metadata": {
    "collapsed": false
   },
   "outputs": [],
   "source": [
    "#Processing the data\n",
    "\n",
    "def get_data():\n",
    "    \n",
    "    data = pd.read_csv('ecommerce_data.csv')\n",
    "    data = data.as_matrix()\n",
    "\n",
    "    X = data[:,:-1]\n",
    "    Y = data[:,-1]\n",
    "    X[:,1] = (X[:,1] - X[:,1].mean())/X[:,1].std()\n",
    "    X[:,2] = (X[:,2] - X[:,2].mean())/X[:,2].std()\n",
    "\n",
    "    #One hot-encoding the time_of_day variable\n",
    "    N, D = X.shape\n",
    "    #The new Data\n",
    "    # D+3 because we have for categories {0,1,2,3}\n",
    "    X2 = np.zeros((N,D+3))\n",
    "    X2[:, 0:(D-1)] = X[:, 0:(D-1)]\n",
    "\n",
    "    for i in range(N):\n",
    "        idx = int(X2[i,D-1])\n",
    "        X2[i, idx+D-1] = 1\n",
    "\n",
    "    return X2, Y\n",
    "\n",
    "\n",
    "def get_binary_data():\n",
    "    X, Y = get_data()\n",
    "    X2 = X[Y <=1]\n",
    "    Y2 = X[Y <=1]\n",
    "    return X2, Y2\n"
   ]
  },
  {
   "cell_type": "code",
   "execution_count": 35,
   "metadata": {
    "collapsed": false
   },
   "outputs": [
    {
     "name": "stdout",
     "output_type": "stream",
     "text": [
      "the accuray is:  0.51\n"
     ]
    }
   ],
   "source": [
    "#Prediction\n",
    "X, Y = get_data()\n",
    "\n",
    "nbr_hidden_layers = 5\n",
    "nbr_features = X.shape[1]\n",
    "nbr_classes = len(set(Y))\n",
    "\n",
    "W1 = np.random.randn(nbr_features, nbr_hidden_layers)\n",
    "b1 = np.random.randn(nbr_hidden_layers)\n",
    "W2 = np.random.randn(nbr_hidden_layers, nbr_classes)\n",
    "b2 = np.random.randn(nbr_classes)\n",
    "\n",
    "def softmax(a):\n",
    "    expA = np.exp(a)\n",
    "    return expA / expA.sum(axis=1, keepdims=True)\n",
    "\n",
    "def forward(X, W1, b1, W2, b2):\n",
    "    Z = np.tanh(X.dot(W1) + b1)\n",
    "    return softmax(Z.dot(W2) + b2)\n",
    "\n",
    "def predict_classification_rate():\n",
    "    predictions_probabilities = forward(X,W1,b1,W2,b2)\n",
    "    predictions = np.argmax(predictions_probabilities, axis=1)\n",
    "    return np.mean(predictions == Y)\n",
    "    \n",
    "print(\"the accuray is: \", predict_classification_rate())"
   ]
  }
 ],
 "metadata": {
  "kernelspec": {
   "display_name": "Python 3",
   "language": "python",
   "name": "python3"
  },
  "language_info": {
   "codemirror_mode": {
    "name": "ipython",
    "version": 3
   },
   "file_extension": ".py",
   "mimetype": "text/x-python",
   "name": "python",
   "nbconvert_exporter": "python",
   "pygments_lexer": "ipython3",
   "version": "3.6.0"
  }
 },
 "nbformat": 4,
 "nbformat_minor": 2
}
