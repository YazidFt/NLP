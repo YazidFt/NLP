{
 "cells": [
  {
   "cell_type": "code",
   "execution_count": 56,
   "metadata": {
    "collapsed": true
   },
   "outputs": [],
   "source": [
    "import numpy as np\n",
    "import matplotlib.pylab as plt\n",
    "import nltk\n",
    "from nltk.stem import WordNetLemmatizer\n",
    "\n",
    "from sklearn.decomposition import TruncatedSVD\n",
    "%matplotlib inline"
   ]
  },
  {
   "cell_type": "code",
   "execution_count": 62,
   "metadata": {
    "collapsed": false
   },
   "outputs": [
    {
     "data": {
      "image/png": "[encoded data removed]",
      "text/plain": [
       "<matplotlib.figure.Figure at 0xb207d30>"
      ]
     },
     "metadata": {},
     "output_type": "display_data"
    }
   ],
   "source": [
    "#Preprocessing the data first\n",
    "lemmatizer = WordNetLemmatizer()\n",
    "\n",
    "titles = [line.rstrip() for line in open('all_book_titles.txt')] \n",
    "stopwords = set(w.rstrip() for w in open('stopwords.txt'))\n",
    "\n",
    "lemmatizer = WordNetLemmatizer()\n",
    "\n",
    "def my_tokenizer(s):\n",
    "    s=s.lower()\n",
    "    tokens = nltk.tokenize.word_tokenize(s)\n",
    "    tokens = [t for t in tokens if len(t)>2]\n",
    "    #word into base form\n",
    "    tokens = [lemmatizer.lemmatize(t) for t in tokens]\n",
    "    tokens = [t for t in tokens if not t in stopwords]\n",
    "    tokens = [t for t in tokens if not any(c.isdigit() for c in t)]\n",
    "    return tokens\n",
    "\n",
    "\n",
    "\n",
    "def tokens_to_vector(tokens):\n",
    "    x = np.zeros(len(word_index_map)) \n",
    "    for token in tokens:\n",
    "        i = word_index_map[token]\n",
    "        x[i]=1\n",
    "    return x    \n",
    "    \n",
    "    \n",
    "#figure the index of each words by going entire the vocabulary\n",
    "word_index_map = {}\n",
    "current_index = 0\n",
    "all_tokens = []\n",
    "all_titles = []\n",
    "index_word_map = {}\n",
    "\n",
    "\n",
    "#Preprocessing the data\n",
    "for title in titles:\n",
    "        #title = title.encode('ascii','ignore')\n",
    "        all_titles.append(title)\n",
    "        tokens = my_tokenizer(title)\n",
    "        all_tokens.append(tokens)\n",
    "        for token in tokens:\n",
    "            if token not in word_index_map:\n",
    "                word_index_map[token] = current_index\n",
    "                current_index += 1\n",
    "                index_word_map[current_index]=token\n",
    "\n",
    "    \n",
    "#print(all_tokens)\n",
    "N = len(all_tokens)\n",
    "D = len(word_index_map)\n",
    "X = np.zeros((D, N))\n",
    "\n",
    "i=0\n",
    "for tokens in all_tokens:\n",
    "    X[:,i] = tokens_to_vector(tokens)\n",
    "    i+=1\n",
    "    \n",
    "\n",
    "svd = TruncatedSVD()\n",
    "Z = svd.fit_transform(X)\n",
    "\n",
    "\n",
    "plt.scatter(Z[:,0],Z[:,1])\n",
    "# for i in range(D):\n",
    "#     plt.annotate(s=index_word_map[i], xy=(Z[:,0],Z[:,1]))\n",
    "\n",
    "plt.show()"
   ]
  },
  {
   "cell_type": "code",
   "execution_count": null,
   "metadata": {
    "collapsed": true
   },
   "outputs": [],
   "source": []
  }
 ],
 "metadata": {
  "kernelspec": {
   "display_name": "Python 3",
   "language": "python",
   "name": "python3"
  },
  "language_info": {
   "codemirror_mode": {
    "name": "ipython",
    "version": 3
   },
   "file_extension": ".py",
   "mimetype": "text/x-python",
   "name": "python",
   "nbconvert_exporter": "python",
   "pygments_lexer": "ipython3",
   "version": "3.6.0"
  }
 },
 "nbformat": 4,
 "nbformat_minor": 2
}
